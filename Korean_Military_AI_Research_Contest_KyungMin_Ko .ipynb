{
  "cells": [
    {
      "cell_type": "markdown",
      "metadata": {
        "id": "5xPBlGu0p8ic"
      },
      "source": [
        "# This tutorial goes through about implementation of Object Tracking System using YOLO v4 and DeepSort."
      ]
    },
    {
      "cell_type": "markdown",
      "metadata": {
        "id": "0I9tgB59x5Ar"
      },
      "source": [
        "## Step 1: Clonning Deepsort from github\n",
        "\n",
        "We are using DeepSort to track the object, so we need to install Deepsort from GIthub.\n"
      ]
    },
    {
      "cell_type": "code",
      "execution_count": null,
      "metadata": {
        "id": "_MW-p089pqYd"
      },
      "outputs": [],
      "source": [
        "!git clone https://github.com/ko120/yolov4-deepsort.git"
      ]
    },
    {
      "cell_type": "markdown",
      "source": [
        "## Step 2: Navigate into Deepsort directory\n"
      ],
      "metadata": {
        "id": "jk5somLjFdry"
      }
    },
    {
      "cell_type": "code",
      "execution_count": null,
      "metadata": {
        "id": "jaWKeglDrPfc"
      },
      "outputs": [],
      "source": [
        "%cd yolov4-deepsort/"
      ]
    },
    {
      "cell_type": "markdown",
      "metadata": {
        "id": "xb34ZSQTuC0-"
      },
      "source": [
        "## Step 3: Download required libraries\n"
      ]
    },
    {
      "cell_type": "code",
      "execution_count": null,
      "metadata": {
        "id": "-EPYqMs2rXQw"
      },
      "outputs": [],
      "source": [
        "!pip install -r requirements-gpu.txt"
      ]
    },
    {
      "cell_type": "markdown",
      "metadata": {
        "id": "SzoF4_rov7qy"
      },
      "source": [
        "## Step 4: Download pre-trained weights for Yolo-v4\n",
        "It takes considerable times and computational power to train, so we are using pre-trained weights"
      ]
    },
    {
      "cell_type": "code",
      "source": [
        "%cd /content/yolov4-deepsort"
      ],
      "metadata": {
        "id": "j3XHK0WeGXj3"
      },
      "execution_count": null,
      "outputs": []
    },
    {
      "cell_type": "code",
      "execution_count": null,
      "metadata": {
        "id": "ekABuSaov2xC"
      },
      "outputs": [],
      "source": [
        "!wget https://github.com/AlexeyAB/darknet/releases/download/darknet_yolo_v3_optimal/yolov4.weights -P data/"
      ]
    },
    {
      "cell_type": "markdown",
      "metadata": {
        "id": "uDETmoafxgAg"
      },
      "source": [
        "## Step 5: Transfer Yolo v4 Darknet to Tensorflow model\n",
        "DeepSort uses tensorflow as baseline, so we need to transfer the Yolov-v4 Darknet to tensorflow model."
      ]
    },
    {
      "cell_type": "code",
      "execution_count": null,
      "metadata": {
        "id": "U4D3CXnoMsel"
      },
      "outputs": [],
      "source": [
        "%cd /content/yolov4-deepsort"
      ]
    },
    {
      "cell_type": "code",
      "execution_count": null,
      "metadata": {
        "id": "twV0dpNIw4lQ"
      },
      "outputs": [],
      "source": [
        "!python save_model.py --model yolov4"
      ]
    },
    {
      "cell_type": "markdown",
      "metadata": {
        "id": "oP5I2_qMM4uJ"
      },
      "source": [
        "## Step 6: Operating DeepSort and YOLOv4"
      ]
    },
    {
      "cell_type": "code",
      "execution_count": null,
      "metadata": {
        "id": "i4Xok1pDxIkQ"
      },
      "outputs": [],
      "source": [
        "# run DeepSort with YOLOv4 Object Detections as backbone (enable --info flag to see info about tracked objects)\n",
        "!python object_tracker.py --video ./data/video/test.mp4 --output ./outputs/tracker.avi --model yolov4 --dont_show --info --count True --xaxis True --allowed_classes 'person', 'car'"
      ]
    },
    {
      "cell_type": "code",
      "execution_count": null,
      "metadata": {
        "id": "rJHEJP54B2-4"
      },
      "outputs": [],
      "source": [
        "# define helper function to display videos\n",
        "import io \n",
        "from IPython.display import HTML\n",
        "from base64 import b64encode\n",
        "def show_video(file_name, width=640):\n",
        "  # show resulting deepsort video\n",
        "  mp4 = open(file_name,'rb').read()\n",
        "  data_url = \"data:video/mp4;base64,\" + b64encode(mp4).decode()\n",
        "  return HTML(\"\"\"\n",
        "  <video width=\"{0}\" controls>\n",
        "        <source src=\"{1}\" type=\"video/mp4\">\n",
        "  </video>\n",
        "  \"\"\".format(width, data_url))"
      ]
    },
    {
      "cell_type": "markdown",
      "metadata": {
        "id": "dEw3mSTUSsXj"
      },
      "source": [
        "# Our object tracking system count people with recognizing direciont referencing red line in the middle.\n"
      ]
    },
    {
      "cell_type": "code",
      "execution_count": null,
      "metadata": {
        "id": "sy8xXTnH81Hb"
      },
      "outputs": [],
      "source": [
        "# convert resulting video from avi to mp4 file format\n",
        "import os\n",
        "path_video = os.path.join(\"outputs\",\"tracker.avi\")\n",
        "%cd outputs/\n",
        "!ffmpeg -y -loglevel panic -i tracker.avi output.mp4\n",
        "%cd ..\n",
        "\n",
        "# output object tracking video\n",
        "path_output = os.path.join(\"outputs\",\"output.mp4\")\n",
        "show_video(path_output, width=960)"
      ]
    },
    {
      "cell_type": "code",
      "execution_count": null,
      "metadata": {
        "id": "NKMKdgwFSdx-"
      },
      "outputs": [],
      "source": [
        "# run object tracker on video of cars\n",
        "!python object_tracker.py --video ./data/video/cars.mp4 --output ./outputs/custom.avi --model yolov4 --dont_show --yaxis True --info --count --allowed_classes 'car', 'truck', 'bus'"
      ]
    },
    {
      "cell_type": "code",
      "execution_count": null,
      "metadata": {
        "id": "jzUs4fLpazny"
      },
      "outputs": [],
      "source": [
        "# convert resulting video from avi to mp4 file format\n",
        "path_video = os.path.join(\"outputs\",\"custom.avi\")\n",
        "%cd outputs/\n",
        "!ffmpeg -y -loglevel panic -i custom.avi result.mp4\n",
        "%cd ..\n",
        "\n",
        "# output object tracking video\n",
        "path_output = os.path.join(\"outputs\",\"result.mp4\")\n",
        "show_video(path_output, width=960)"
      ]
    }
  ],
  "metadata": {
    "accelerator": "GPU",
    "colab": {
      "provenance": [],
      "machine_shape": "hm"
    },
    "gpuClass": "premium",
    "kernelspec": {
      "display_name": "Python 3",
      "name": "python3"
    }
  },
  "nbformat": 4,
  "nbformat_minor": 0
}